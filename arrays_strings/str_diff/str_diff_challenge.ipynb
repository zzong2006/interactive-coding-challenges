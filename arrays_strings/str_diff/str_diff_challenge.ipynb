{
 "cells": [
  {
   "cell_type": "markdown",
   "metadata": {},
   "source": [
    "This notebook was prepared by [Donne Martin](https://github.com/donnemartin). Source and license info is on [GitHub](https://github.com/donnemartin/interactive-coding-challenges)."
   ]
  },
  {
   "cell_type": "markdown",
   "metadata": {},
   "source": [
    "# Challenge Notebook"
   ]
  },
  {
   "cell_type": "markdown",
   "metadata": {},
   "source": [
    "## Problem: Find the single different char between two strings.\n",
    "\n",
    "* [Constraints](#Constraints)\n",
    "* [Test Cases](#Test-Cases)\n",
    "* [Algorithm](#Algorithm)\n",
    "* [Code](#Code)\n",
    "* [Unit Test](#Unit-Test)\n",
    "* [Solution Notebook](#Solution-Notebook)"
   ]
  },
  {
   "cell_type": "markdown",
   "metadata": {},
   "source": [
    "## Constraints\n",
    "\n",
    "* Can we assume the strings are ASCII?\n",
    "    * Yes\n",
    "* Is case important?\n",
    "    * The strings are lower case\n",
    "* Can we assume the inputs are valid?\n",
    "    * No, check for None\n",
    "    * Otherwise, assume there is only a single different char between the two strings\n",
    "* Can we assume this fits memory?\n",
    "    * Yes"
   ]
  },
  {
   "cell_type": "markdown",
   "metadata": {},
   "source": [
    "## Test Cases\n",
    "\n",
    "* None input -> TypeError\n",
    "* 'ab', 'aab' -> 'a'\n",
    "* 'aab', 'ab' -> 'a'\n",
    "* 'abcd', 'abcde' -> 'e'\n",
    "* 'aaabbcdd', 'abdbacade' -> 'e'"
   ]
  },
  {
   "cell_type": "markdown",
   "metadata": {},
   "source": [
    "## Algorithm\n",
    "\n",
    "Refer to the [Solution Notebook](str_diff_solution.ipynb).  If you are stuck and need a hint, the solution notebook's algorithm discussion might be a good place to start."
   ]
  },
  {
   "cell_type": "markdown",
   "metadata": {},
   "source": [
    "## Code"
   ]
  },
  {
   "cell_type": "code",
   "execution_count": 3,
   "metadata": {},
   "outputs": [],
   "source": [
    "class Solution(object):\n",
    "\n",
    "    def find_diff(self, str1, str2):\n",
    "        count = [0] * 26\n",
    "        if str1 is None or str2 is None:\n",
    "            raise TypeError\n",
    "        for s in str1:\n",
    "            count[ord(s) - ord('a')] += 1\n",
    "        for s in str2:\n",
    "            count[ord(s) - ord('a')] -= 1\n",
    "        for i in range(len(count)):\n",
    "            if count[i] != 0:\n",
    "                return chr(i + ord('a'))\n",
    "        # TODO: Implement me\n",
    "        pass\n",
    "    def find_diff_xor(self, str1, str2):\n",
    "        result = 0\n",
    "        for s in str1:\n",
    "            result ^= ord(s)\n",
    "        for s in str2:\n",
    "            result ^= ord(s)\n",
    "        return chr(result)"
   ]
  },
  {
   "cell_type": "markdown",
   "metadata": {},
   "source": [
    "## Unit Test"
   ]
  },
  {
   "cell_type": "markdown",
   "metadata": {},
   "source": [
    "**The following unit test is expected to fail until you solve the challenge.**"
   ]
  },
  {
   "cell_type": "code",
   "execution_count": 4,
   "metadata": {},
   "outputs": [
    {
     "name": "stdout",
     "output_type": "stream",
     "text": [
      "Success: test_find_diff\n"
     ]
    }
   ],
   "source": [
    "# %load test_str_diff.py\n",
    "import unittest\n",
    "\n",
    "\n",
    "class TestFindDiff(unittest.TestCase):\n",
    "\n",
    "    def test_find_diff(self):\n",
    "        solution = Solution()\n",
    "        self.assertRaises(TypeError, solution.find_diff, None)\n",
    "        self.assertEqual(solution.find_diff('ab', 'aab'), 'a')\n",
    "        self.assertEqual(solution.find_diff('aab', 'ab'), 'a')\n",
    "        self.assertEqual(solution.find_diff('abcd', 'abcde'), 'e')\n",
    "        self.assertEqual(solution.find_diff('aaabbcdd', 'abdbacade'), 'e')\n",
    "        self.assertEqual(solution.find_diff_xor('ab', 'aab'), 'a')\n",
    "        self.assertEqual(solution.find_diff_xor('aab', 'ab'), 'a')\n",
    "        self.assertEqual(solution.find_diff_xor('abcd', 'abcde'), 'e')\n",
    "        self.assertEqual(solution.find_diff_xor('aaabbcdd', 'abdbacade'), 'e')\n",
    "        print('Success: test_find_diff')\n",
    "\n",
    "\n",
    "def main():\n",
    "    test = TestFindDiff()\n",
    "    test.test_find_diff()\n",
    "\n",
    "\n",
    "if __name__ == '__main__':\n",
    "    main()"
   ]
  },
  {
   "cell_type": "markdown",
   "metadata": {},
   "source": [
    "## Solution Notebook\n",
    "\n",
    "Review the [Solution Notebook](http://nbviewer.jupyter.org/github/donnemartin/interactive-coding-challenges/blob/master/arrays_strings/str_diff/str_diff_solution.ipynb) for a discussion on algorithms and code solutions."
   ]
  }
 ],
 "metadata": {
  "kernelspec": {
   "display_name": "Python 3",
   "language": "python",
   "name": "python3"
  },
  "language_info": {
   "codemirror_mode": {
    "name": "ipython",
    "version": 3
   },
   "file_extension": ".py",
   "mimetype": "text/x-python",
   "name": "python",
   "nbconvert_exporter": "python",
   "pygments_lexer": "ipython3",
   "version": "3.8.5"
  }
 },
 "nbformat": 4,
 "nbformat_minor": 1
}
