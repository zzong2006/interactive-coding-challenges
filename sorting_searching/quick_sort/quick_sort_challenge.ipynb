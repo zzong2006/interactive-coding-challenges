{
 "cells": [
  {
   "cell_type": "markdown",
   "metadata": {},
   "source": [
    "This notebook was prepared by [Donne Martin](http://donnemartin.com). Source and license info is on [GitHub](https://github.com/donnemartin/interactive-coding-challenges)."
   ]
  },
  {
   "cell_type": "markdown",
   "metadata": {},
   "source": [
    "# Challenge Notebook"
   ]
  },
  {
   "cell_type": "markdown",
   "metadata": {},
   "source": [
    "## Problem: Implement quick sort.\n",
    "\n",
    "* [Constraints](#Constraints)\n",
    "* [Test Cases](#Test-Cases)\n",
    "* [Algorithm](#Algorithm)\n",
    "* [Code](#Code)\n",
    "* [Unit Test](#Unit-Test)\n",
    "* [Solution Notebook](#Solution-Notebook)"
   ]
  },
  {
   "cell_type": "markdown",
   "metadata": {},
   "source": [
    "## Constraints\n",
    "\n",
    "* Is a naive solution sufficient (ie not in-place)?\n",
    "    * Yes\n",
    "* Are duplicates allowed?\n",
    "    * Yes\n",
    "* Can we assume the input is valid?\n",
    "    * No\n",
    "* Can we assume this fits memory?\n",
    "    * Yes"
   ]
  },
  {
   "cell_type": "markdown",
   "metadata": {},
   "source": [
    "## Test Cases\n",
    "\n",
    "* None -> Exception\n",
    "* Empty input -> []\n",
    "* One element -> [element]\n",
    "* Two or more elements"
   ]
  },
  {
   "cell_type": "markdown",
   "metadata": {},
   "source": [
    "## Algorithm\n",
    "\n",
    "Refer to the [Solution Notebook](http://nbviewer.ipython.org/github/donnemartin/interactive-coding-challenges/blob/master/sorting_searching/quick_sort/quick_sort_solution.ipynb).  If you are stuck and need a hint, the solution notebook's algorithm discussion might be a good place to start."
   ]
  },
  {
   "cell_type": "markdown",
   "metadata": {},
   "source": [
    "## Code"
   ]
  },
  {
   "cell_type": "code",
   "execution_count": 4,
   "metadata": {},
   "outputs": [],
   "source": [
    "class QuickSort(object):\n",
    "    \n",
    "    \n",
    "    def sort(self, data):\n",
    "        def quickSort(alist):\n",
    "            quickSortHelper(alist, 0, len(alist) - 1)\n",
    "\n",
    "        def quickSortHelper(alist, first, last):\n",
    "            if first < last:\n",
    "                splitpoint = partition(alist, first, last)\n",
    "                quickSortHelper(alist, first, splitpoint - 1)\n",
    "                quickSortHelper(alist, splitpoint + 1, last)\n",
    "\n",
    "        def partition(alist,first,last):\n",
    "            pivotvalue = alist[last]\n",
    "\n",
    "            leftmark = first \n",
    "            rightmark = last - 1\n",
    "\n",
    "            while True:\n",
    "                while alist[leftmark] < pivotvalue:\n",
    "                    leftmark = leftmark + 1\n",
    "\n",
    "                while alist[rightmark] > pivotvalue:\n",
    "                    rightmark = rightmark -1\n",
    "\n",
    "                if leftmark < rightmark:\n",
    "                    alist[leftmark], alist[rightmark] = alist[rightmark], alist[leftmark]\n",
    "                else:\n",
    "                    break\n",
    "                    \n",
    "            alist[last], alist[leftmark] = alist[leftmark], alist[last]\n",
    "\n",
    "            return leftmark\n",
    "        def quick_sort(left, right):\n",
    "            if right - left < 1:\n",
    "                return \n",
    "            else:\n",
    "                pivot = right \n",
    "                l = left\n",
    "                r = right - 1\n",
    "                while True:\n",
    "                    while data[l] < data[pivot]:\n",
    "                        l += 1\n",
    "                    while data[r] > data[pivot]: \n",
    "                        r -= 1\n",
    "                    if l < r:\n",
    "                        data[l], data[r] = data[r], data[l]\n",
    "                    else:\n",
    "                        data[l], data[pivot] = data[pivot], data[l]\n",
    "                        break\n",
    "            pivot = l\n",
    "            quick_sort(left, pivot - 1)\n",
    "            quick_sort(pivot + 1, right)\n",
    "        if data is None:\n",
    "            raise TypeError\n",
    "        \n",
    "        quickSort(data)\n",
    "        #quick_sort(0, len(data) - 1)\n",
    "        return data\n",
    "        # TODO: Implement me\n",
    "        pass"
   ]
  },
  {
   "cell_type": "markdown",
   "metadata": {},
   "source": [
    "## Unit Test\n",
    "\n",
    "\n",
    "\n",
    "**The following unit test is expected to fail until you solve the challenge.**"
   ]
  },
  {
   "cell_type": "code",
   "execution_count": 5,
   "metadata": {},
   "outputs": [
    {
     "name": "stdout",
     "output_type": "stream",
     "text": [
      "None input\n",
      "Empty input\n",
      "One element\n",
      "Two or more elements\n",
      "Success: test_quick_sort\n",
      "\n"
     ]
    }
   ],
   "source": [
    "# %load test_quick_sort.py\n",
    "import unittest\n",
    "\n",
    "\n",
    "class TestQuickSort(unittest.TestCase):\n",
    "\n",
    "    def test_quick_sort(self):\n",
    "        quick_sort = QuickSort()\n",
    "\n",
    "        print('None input')\n",
    "        self.assertRaises(TypeError, quick_sort.sort, None)\n",
    "\n",
    "        print('Empty input')\n",
    "        self.assertEqual(quick_sort.sort([]), [])\n",
    "\n",
    "        print('One element')\n",
    "        self.assertEqual(quick_sort.sort([5]), [5])\n",
    "\n",
    "        print('Two or more elements')\n",
    "        data = [5, 1, 7, 2, 6, -3, 5, 7, -1]\n",
    "        self.assertEqual(quick_sort.sort(data), sorted(data))\n",
    "\n",
    "        print('Success: test_quick_sort\\n')\n",
    "\n",
    "\n",
    "def main():\n",
    "    test = TestQuickSort()\n",
    "    test.test_quick_sort()\n",
    "\n",
    "\n",
    "if __name__ == '__main__':\n",
    "    main()"
   ]
  },
  {
   "cell_type": "markdown",
   "metadata": {},
   "source": [
    "## Solution Notebook\n",
    "\n",
    "Review the [Solution Notebook](http://nbviewer.ipython.org/github/donnemartin/interactive-coding-challenges/blob/master/sorting_searching/quick_sort/quick_sort_solution.ipynb) for a discussion on algorithms and code solutions."
   ]
  }
 ],
 "metadata": {
  "kernelspec": {
   "display_name": "Python 3",
   "language": "python",
   "name": "python3"
  },
  "language_info": {
   "codemirror_mode": {
    "name": "ipython",
    "version": 3
   },
   "file_extension": ".py",
   "mimetype": "text/x-python",
   "name": "python",
   "nbconvert_exporter": "python",
   "pygments_lexer": "ipython3",
   "version": "3.8.5"
  }
 },
 "nbformat": 4,
 "nbformat_minor": 1
}
