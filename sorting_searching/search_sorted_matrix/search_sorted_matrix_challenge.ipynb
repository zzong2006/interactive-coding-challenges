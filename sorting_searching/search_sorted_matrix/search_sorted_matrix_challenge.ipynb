{
 "cells": [
  {
   "cell_type": "markdown",
   "metadata": {},
   "source": [
    "This notebook was prepared by [Donne Martin](https://github.com/donnemartin). Source and license info is on [GitHub](https://github.com/donnemartin/interactive-coding-challenges)."
   ]
  },
  {
   "cell_type": "markdown",
   "metadata": {},
   "source": [
    "# Challenge Notebook"
   ]
  },
  {
   "cell_type": "markdown",
   "metadata": {},
   "source": [
    "## Problem: Search a sorted matrix for an item.\n",
    "\n",
    "* [Constraints](#Constraints)\n",
    "* [Test Cases](#Test-Cases)\n",
    "* [Algorithm](#Algorithm)\n",
    "* [Code](#Code)\n",
    "* [Unit Test](#Unit-Test)\n",
    "* [Solution Notebook](#Solution-Notebook)"
   ]
  },
  {
   "cell_type": "markdown",
   "metadata": {},
   "source": [
    "## Constraints\n",
    "\n",
    "* Are items in each row sorted?\n",
    "    * Yes\n",
    "* Are items in each column sorted?\n",
    "    * Yes\n",
    "* Is the sorting in ascending or descending order?\n",
    "    * Ascending\n",
    "* Is the matrix a rectangle?  Not jagged?\n",
    "    * Yes\n",
    "* Is the matrix square?\n",
    "    * Not necessarily\n",
    "* Is the output a tuple (row, col)?\n",
    "    * Yes\n",
    "* Is the item you are searching for always in the matrix?\n",
    "    * No\n",
    "* Can we assume the inputs are valid?\n",
    "    * No\n",
    "* Can we assume this fits memory?\n",
    "    * Yes"
   ]
  },
  {
   "cell_type": "markdown",
   "metadata": {},
   "source": [
    "## Test Cases\n",
    "\n",
    "* None -> Exception\n",
    "* General case\n",
    "    * Item found -> (row, col)\n",
    "    * Item not found -> None"
   ]
  },
  {
   "cell_type": "markdown",
   "metadata": {},
   "source": [
    "## Algorithm\n",
    "\n",
    "Refer to the [Solution Notebook](http://nbviewer.jupyter.org/github/donnemartin/interactive-coding-challenges/blob/master/sorting_searching/search_sorted_matrix/search_sorted_matrix_solution.ipynb).  If you are stuck and need a hint, the solution notebook's algorithm discussion might be a good place to start."
   ]
  },
  {
   "cell_type": "markdown",
   "metadata": {},
   "source": [
    "```\n",
    "## Algorithm\n",
    "\n",
    "<pre>\n",
    "\n",
    "Find 60 (val = 60)\n",
    "\n",
    " 20  40  63   80\n",
    " 30  50  80   90\n",
    " 40  60  100 110\n",
    " 50  65  105 150\n",
    "\n",
    "* If the start of a col > val, look left\n",
    "* If the end of a col < val, look right\n",
    "* If the start of row > val, look up\n",
    "* If the end of a row < val, look down\n",
    "\n",
    "If we start at the upper right corner, we just need to use these cases:\n",
    "\n",
    "* If the start of a col > val, look left\n",
    "* If the end of a row < val, look down\n",
    "\n",
    "</pre>\n",
    "\n",
    "Complexity:\n",
    "* Time: O(n + m), where n and m are the matrix dimensions\n",
    "* Space: O(1)\n",
    "```"
   ]
  },
  {
   "cell_type": "markdown",
   "metadata": {},
   "source": [
    "## Code"
   ]
  },
  {
   "cell_type": "code",
   "execution_count": 10,
   "metadata": {},
   "outputs": [],
   "source": [
    "class SortedMatrix(object):\n",
    "\n",
    "    def find_val(self, matrix, val):\n",
    "        if matrix is None:\n",
    "            raise TypeError\n",
    "        col = 0\n",
    "        row = len(matrix[0]) - 1\n",
    "        while 0 <= col < len(matrix) and 0 <= row < len(matrix[0]):\n",
    "            curr = matrix[col][row]\n",
    "            if val == curr:\n",
    "                return (col, row)\n",
    "            elif val < curr:\n",
    "                row -= 1\n",
    "            elif val > curr:\n",
    "                col += 1\n",
    "        return None\n",
    "        # TODO: Implement me\n",
    "        pass"
   ]
  },
  {
   "cell_type": "markdown",
   "metadata": {},
   "source": [
    "## Unit Test"
   ]
  },
  {
   "cell_type": "markdown",
   "metadata": {},
   "source": [
    "**The following unit test is expected to fail until you solve the challenge.**"
   ]
  },
  {
   "cell_type": "code",
   "execution_count": 11,
   "metadata": {},
   "outputs": [
    {
     "name": "stdout",
     "output_type": "stream",
     "text": [
      "Success: test_find_val\n"
     ]
    }
   ],
   "source": [
    "# %load test_search_sorted_matrix.py\n",
    "import unittest\n",
    "\n",
    "\n",
    "class TestSortedMatrix(unittest.TestCase):\n",
    "\n",
    "    def test_find_val(self):\n",
    "        matrix = [[20, 40, 63, 80],\n",
    "                  [30, 50, 80, 90],\n",
    "                  [40, 60, 110, 110],\n",
    "                  [50, 65, 105, 150]]\n",
    "        sorted_matrix = SortedMatrix()\n",
    "        self.assertRaises(TypeError, sorted_matrix.find_val, None, None)\n",
    "        self.assertEqual(sorted_matrix.find_val(matrix, 1000), None)\n",
    "        self.assertEqual(sorted_matrix.find_val(matrix, 60), (2, 1))\n",
    "        print('Success: test_find_val')\n",
    "\n",
    "\n",
    "def main():\n",
    "    test = TestSortedMatrix()\n",
    "    test.test_find_val()\n",
    "\n",
    "\n",
    "if __name__ == '__main__':\n",
    "    main()"
   ]
  },
  {
   "cell_type": "markdown",
   "metadata": {},
   "source": [
    "## Solution Notebook\n",
    "\n",
    "Review the [Solution Notebook]() for a discussion on algorithms and code solutions."
   ]
  }
 ],
 "metadata": {
  "kernelspec": {
   "display_name": "Python 3",
   "language": "python",
   "name": "python3"
  },
  "language_info": {
   "codemirror_mode": {
    "name": "ipython",
    "version": 3
   },
   "file_extension": ".py",
   "mimetype": "text/x-python",
   "name": "python",
   "nbconvert_exporter": "python",
   "pygments_lexer": "ipython3",
   "version": "3.8.5"
  }
 },
 "nbformat": 4,
 "nbformat_minor": 1
}
